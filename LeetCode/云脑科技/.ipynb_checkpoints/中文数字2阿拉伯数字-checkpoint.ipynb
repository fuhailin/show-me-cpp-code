{
 "cells": [
  {
   "cell_type": "code",
   "execution_count": 1,
   "metadata": {
    "collapsed": true
   },
   "outputs": [],
   "source": [
    "chs_arabic_map = {u'零':0, u'一':1, u'二':2, u'三':3, u'四':4,\n",
    "        u'五':5, u'六':6, u'七':7, u'八':8, u'九':9,\n",
    "        u'十':10, u'百':100, u'千':10 ** 3, u'万':10 ** 4,\n",
    "        u'〇':0, u'壹':1, u'贰':2, u'叁':3, u'肆':4,\n",
    "        u'伍':5, u'陆':6, u'柒':7, u'捌':8, u'玖':9,\n",
    "        u'拾':10, u'佰':100, u'仟':10 ** 3, u'萬':10 ** 4,\n",
    "        u'亿':10 ** 8, u'億':10 ** 8, u'幺': 1,\n",
    "        u'０':0, u'１':1, u'２':2, u'３':3, u'４':4,\n",
    "        u'５':5, u'６':6, u'７':7, u'８':8, u'９':9}"
   ]
  },
  {
   "cell_type": "code",
   "execution_count": 5,
   "metadata": {
    "collapsed": true
   },
   "outputs": [],
   "source": [
    "def convertChineseDigitsToArabic (chinese_digits, encoding=\"utf-8\"):\n",
    "    result  = 0\n",
    "    tmp     = 0\n",
    "    hnd_mln = 0\n",
    "    for count in range(len(chinese_digits)):\n",
    "        curr_char  = chinese_digits[count]\n",
    "        curr_digit = chs_arabic_map.get(curr_char, None)\n",
    "        # meet 「亿」 or 「億」\n",
    "        if curr_digit == 10 ** 8:\n",
    "            result  = result + tmp\n",
    "            result  = result * curr_digit\n",
    "            # get result before 「亿」 and store it into hnd_mln\n",
    "            # reset `result`\n",
    "            hnd_mln = hnd_mln * 10 ** 8 + result\n",
    "            result  = 0\n",
    "            tmp     = 0\n",
    "        # meet 「万」 or 「萬」\n",
    "        elif curr_digit == 10 ** 4:\n",
    "            result = result + tmp\n",
    "            result = result * curr_digit\n",
    "            tmp    = 0\n",
    "        # meet 「十」, 「百」, 「千」 or their traditional version\n",
    "        elif curr_digit >= 10:\n",
    "            tmp    = 1 if tmp == 0 else tmp\n",
    "            result = result + curr_digit * tmp\n",
    "            tmp    = 0\n",
    "        # meet single digit\n",
    "        elif curr_digit is not None:\n",
    "            tmp = tmp * 10 + curr_digit\n",
    "        else:\n",
    "            return result\n",
    "    result = result + tmp\n",
    "    result = result + hnd_mln\n",
    "    return result"
   ]
  },
  {
   "cell_type": "code",
   "execution_count": 8,
   "metadata": {
    "collapsed": false
   },
   "outputs": [
    {
     "data": {
      "text/plain": [
       "58"
      ]
     },
     "execution_count": 8,
     "metadata": {},
     "output_type": "execute_result"
    }
   ],
   "source": [
    "var = '五十八'\n",
    "convertChineseDigitsToArabic(var)"
   ]
  },
  {
   "cell_type": "code",
   "execution_count": 10,
   "metadata": {
    "collapsed": false
   },
   "outputs": [
    {
     "data": {
      "text/plain": [
       "1234567"
      ]
     },
     "execution_count": 10,
     "metadata": {},
     "output_type": "execute_result"
    }
   ],
   "source": [
    "var = '一百二十三万四千五百六十七'\n",
    "convertChineseDigitsToArabic(var)"
   ]
  },
  {
   "cell_type": "code",
   "execution_count": 11,
   "metadata": {
    "collapsed": false
   },
   "outputs": [
    {
     "data": {
      "text/plain": [
       "32100215"
      ]
     },
     "execution_count": 11,
     "metadata": {},
     "output_type": "execute_result"
    }
   ],
   "source": [
    "var = '三千二百一十万零二百一十五'\n",
    "convertChineseDigitsToArabic(var)"
   ]
  },
  {
   "cell_type": "code",
   "execution_count": 12,
   "metadata": {
    "collapsed": false
   },
   "outputs": [
    {
     "data": {
      "text/plain": [
       "100900076"
      ]
     },
     "execution_count": 12,
     "metadata": {},
     "output_type": "execute_result"
    }
   ],
   "source": [
    "var = '一亿零九十万零七十六'\n",
    "convertChineseDigitsToArabic(var)"
   ]
  },
  {
   "cell_type": "code",
   "execution_count": 13,
   "metadata": {
    "collapsed": false
   },
   "outputs": [
    {
     "data": {
      "text/plain": [
       "1000000900076"
      ]
     },
     "execution_count": 13,
     "metadata": {},
     "output_type": "execute_result"
    }
   ],
   "source": [
    "convertChineseDigitsToArabic('一万亿零九十万零七十六')"
   ]
  },
  {
   "cell_type": "code",
   "execution_count": null,
   "metadata": {
    "collapsed": true
   },
   "outputs": [],
   "source": []
  }
 ],
 "metadata": {
  "kernelspec": {
   "display_name": "Python 3",
   "language": "python",
   "name": "python3"
  },
  "language_info": {
   "codemirror_mode": {
    "name": "ipython",
    "version": 3
   },
   "file_extension": ".py",
   "mimetype": "text/x-python",
   "name": "python",
   "nbconvert_exporter": "python",
   "pygments_lexer": "ipython3",
   "version": "3.6.2"
  }
 },
 "nbformat": 4,
 "nbformat_minor": 2
}
